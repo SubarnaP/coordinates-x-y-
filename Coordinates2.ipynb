{
  "nbformat": 4,
  "nbformat_minor": 0,
  "metadata": {
    "colab": {
      "provenance": []
    },
    "kernelspec": {
      "name": "python3",
      "display_name": "Python 3"
    },
    "language_info": {
      "name": "python"
    }
  },
  "cells": [
    {
      "cell_type": "markdown",
      "source": [
        "Horizontal camera position"
      ],
      "metadata": {
        "id": "q_hezpew4yME"
      }
    },
    {
      "cell_type": "code",
      "execution_count": 1,
      "metadata": {
        "id": "tF-iNnbM4vRf"
      },
      "outputs": [],
      "source": [
        "import cv2\n",
        "import numpy as np\n",
        "\n",
        "# Function to find the X-coordinate of colored objects\n",
        "def find_x_coordinate(frame):\n",
        "    gray_frame = cv2.cvtColor(frame, cv2.COLOR_BGR2GRAY)\n",
        "    inverted_gray_frame = cv2.bitwise_not(gray_frame)\n",
        "    _, mask = cv2.threshold(inverted_gray_frame, 50, 255, cv2.THRESH_BINARY)\n",
        "    contours, _ = cv2.findContours(mask, cv2.RETR_TREE, cv2.CHAIN_APPROX_SIMPLE)\n",
        "\n",
        "    x_coordinates = []\n",
        "\n",
        "    for contour in contours:\n",
        "        if cv2.contourArea(contour) > 500:\n",
        "            moments = cv2.moments(contour)\n",
        "            if moments[\"m00\"] != 0:\n",
        "                cx = int(moments[\"m10\"] / moments[\"m00\"])\n",
        "                x_coordinates.append(cx)\n",
        "\n",
        "    return x_coordinates\n",
        "\n",
        "cap = cv2.VideoCapture(0)\n",
        "\n",
        "while True:\n",
        "    ret, frame = cap.read()\n",
        "    if not ret:\n",
        "        break\n",
        "\n",
        "    x_coords = find_x_coordinate(frame)\n",
        "\n",
        "    for cx in x_coords:\n",
        "        print(f\"X-coordinate of the object: {cx}\")\n",
        "\n",
        "    cv2.imshow(\"Frame\", frame)\n",
        "\n",
        "    if cv2.waitKey(1) & 0xFF == ord('q'):\n",
        "        break\n",
        "\n",
        "cap.release()\n",
        "cv2.destroyAllWindows()\n"
      ]
    },
    {
      "cell_type": "markdown",
      "source": [],
      "metadata": {
        "id": "2X7VdALx6auV"
      }
    },
    {
      "cell_type": "markdown",
      "source": [
        "Vertical camera position"
      ],
      "metadata": {
        "id": "UC03bBVI449r"
      }
    },
    {
      "cell_type": "code",
      "source": [
        "import cv2\n",
        "import numpy as np\n",
        "\n",
        "# Function to find the Y-coordinate of colored objects\n",
        "def find_y_coordinate(frame):\n",
        "    gray_frame = cv2.cvtColor(frame, cv2.COLOR_BGR2GRAY)\n",
        "    inverted_gray_frame = cv2.bitwise_not(gray_frame)\n",
        "    _, mask = cv2.threshold(inverted_gray_frame, 50, 255, cv2.THRESH_BINARY)\n",
        "    contours, _ = cv2.findContours(mask, cv2.RETR_TREE, cv2.CHAIN_APPROX_SIMPLE)\n",
        "\n",
        "    y_coordinates = []\n",
        "\n",
        "    for contour in contours:\n",
        "        if cv2.contourArea(contour) > 500:\n",
        "            moments = cv2.moments(contour)\n",
        "            if moments[\"m00\"] != 0:\n",
        "                cy = int(moments[\"m01\"] / moments[\"m00\"])\n",
        "                y_coordinates.append(cy)\n",
        "\n",
        "    return y_coordinates\n",
        "\n",
        "cap = cv2.VideoCapture(0)\n",
        "\n",
        "while True:\n",
        "    ret, frame = cap.read()\n",
        "    if not ret:\n",
        "        break\n",
        "\n",
        "    y_coords = find_y_coordinate(frame)\n",
        "\n",
        "    for cy in y_coords:\n",
        "        print(f\"Y-coordinate of the object: {cy}\")\n",
        "\n",
        "    cv2.imshow(\"Frame\", frame)\n",
        "\n",
        "    if cv2.waitKey(1) & 0xFF == ord('q'):\n",
        "        break\n",
        "\n",
        "cap.release()\n",
        "cv2.destroyAllWindows()\n"
      ],
      "metadata": {
        "id": "mEMMGVXU47FY"
      },
      "execution_count": null,
      "outputs": []
    },
    {
      "cell_type": "markdown",
      "source": [
        "Code that handles both vertical and horizontal camera positions, returning the Y or X coordinates of the detected colored object based on the camera's orientation"
      ],
      "metadata": {
        "id": "Yz3IlBx46cDQ"
      }
    },
    {
      "cell_type": "code",
      "source": [
        "import cv2\n",
        "import numpy as np\n",
        "\n",
        "# Function to find the coordinates of colored objects\n",
        "def find_colored_object_coordinates(frame, lower_color, upper_color, axis='both'):\n",
        "    # Convert the frame to HSV color space\n",
        "    hsv_frame = cv2.cvtColor(frame, cv2.COLOR_BGR2HSV)\n",
        "\n",
        "    # Apply Gaussian Blur to the frame to reduce noise\n",
        "    blurred_frame = cv2.GaussianBlur(hsv_frame, (11, 11), 0)\n",
        "\n",
        "    # Create a mask for the specified color\n",
        "    mask = cv2.inRange(blurred_frame, lower_color, upper_color)\n",
        "\n",
        "    # Apply morphological operations to remove small noise and close gaps in the mask\n",
        "    mask = cv2.erode(mask, None, iterations=2)\n",
        "    mask = cv2.dilate(mask, None, iterations=2)\n",
        "\n",
        "    # Find contours in the mask\n",
        "    contours, _ = cv2.findContours(mask, cv2.RETR_TREE, cv2.CHAIN_APPROX_SIMPLE)\n",
        "\n",
        "    coordinates = []\n",
        "\n",
        "    for contour in contours:\n",
        "        if cv2.contourArea(contour) > 500:  # Filter small contours\n",
        "            # Get the moments to calculate the centroid\n",
        "            moments = cv2.moments(contour)\n",
        "            if moments[\"m00\"] != 0:\n",
        "                cx = int(moments[\"m10\"] / moments[\"m00\"])\n",
        "                cy = int(moments[\"m01\"] / moments[\"m00\"])\n",
        "\n",
        "                if axis == 'both':\n",
        "                    coordinates.append((cx, cy))\n",
        "                elif axis == 'x':\n",
        "                    coordinates.append(cx)\n",
        "                elif axis == 'y':\n",
        "                    coordinates.append(cy)\n",
        "\n",
        "                # Draw the contour and centroid on the frame\n",
        "                cv2.drawContours(frame, [contour], -1, (0, 255, 0), 2)\n",
        "                cv2.circle(frame, (cx, cy), 5, (0, 0, 255), -1)\n",
        "\n",
        "    return coordinates\n",
        "\n",
        "# Define the color range for detection (HSV values)\n",
        "lower_color = np.array([100, 150, 0])  # Lower bound for blue color\n",
        "upper_color = np.array([140, 255, 255])  # Upper bound for blue color\n",
        "\n",
        "# Function to process the video and print coordinates\n",
        "def process_video(axis):\n",
        "    cap = cv2.VideoCapture(0)\n",
        "\n",
        "    while True:\n",
        "        ret, frame = cap.read()\n",
        "        if not ret:\n",
        "            break\n",
        "\n",
        "        # Find the object coordinates\n",
        "        coords = find_colored_object_coordinates(frame, lower_color, upper_color, axis)\n",
        "\n",
        "        for coord in coords:\n",
        "            if axis == 'x':\n",
        "                print(f\"X-coordinate of the object: {coord}\")\n",
        "            elif axis == 'y':\n",
        "                print(f\"Y-coordinate of the object: {coord}\")\n",
        "            else:\n",
        "                print(f\"Coordinates of the object: {coord}\")\n",
        "\n",
        "        # Display the frame\n",
        "        cv2.imshow(\"Frame\", frame)\n",
        "\n",
        "        # Break the loop if 'q' is pressed\n",
        "        if cv2.waitKey(1) & 0xFF == ord('q'):\n",
        "            break\n",
        "\n",
        "    # Release the camera and close all OpenCV windows\n",
        "    cap.release()\n",
        "    cv2.destroyAllWindows()\n",
        "\n",
        "\n",
        "\n",
        "# For both coordinates:\n",
        "process_video(axis='both')\n"
      ],
      "metadata": {
        "id": "OJQN8mTf6gHG"
      },
      "execution_count": null,
      "outputs": []
    }
  ]
}